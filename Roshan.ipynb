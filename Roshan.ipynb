{
 "cells": [
  {
   "cell_type": "markdown",
   "metadata": {},
   "source": [
    "## Writing a script to check if a key is present in a dictionary\n",
    "1) Write a Python program to check whether a given key already exists in a dictionary."
   ]
  },
  {
   "cell_type": "code",
   "execution_count": 1,
   "metadata": {},
   "outputs": [],
   "source": [
    "# Defining a function for checking a key in a dictionary\n",
    "def check_key(d, k):\n",
    "    '''Checking if the key, k, is present in the dictionary, d. If it's present it will \n",
    "    return True boolean value; otherwise, it will return False. Implemented in Python 3.5'''\n",
    "    if k in d.keys(): \n",
    "        return True\n",
    "    else:\n",
    "        return False"
   ]
  },
  {
   "cell_type": "code",
   "execution_count": 2,
   "metadata": {},
   "outputs": [
    {
     "data": {
      "text/plain": [
       "True"
      ]
     },
     "execution_count": 2,
     "metadata": {},
     "output_type": "execute_result"
    }
   ],
   "source": [
    "# Checking with dic1={1:10, 2:20}\n",
    "dic1={1:10, 2:20}\n",
    "check_key(dic1,1)"
   ]
  },
  {
   "cell_type": "code",
   "execution_count": 3,
   "metadata": {},
   "outputs": [
    {
     "data": {
      "text/plain": [
       "False"
      ]
     },
     "execution_count": 3,
     "metadata": {},
     "output_type": "execute_result"
    }
   ],
   "source": [
    "check_key(dic1,3)"
   ]
  },
  {
   "cell_type": "markdown",
   "metadata": {},
   "source": [
    "## Writing a script to concatenate three dictionaries\n",
    "2) Write a Python script to concatenate following dictionaries to create a new one. \n",
    " dic1={1:10, 2:20} dic2={3:30, 4:40} dic3={5:50,6:60} \n",
    "Expected Result : {1: 10, 2: 20, 3: 30, 4: 40, 5: 50, 6: 60}"
   ]
  },
  {
   "cell_type": "code",
   "execution_count": 4,
   "metadata": {},
   "outputs": [
    {
     "data": {
      "text/plain": [
       "{1: 10, 2: 20, 3: 30, 4: 40, 5: 50, 6: 60}"
      ]
     },
     "execution_count": 4,
     "metadata": {},
     "output_type": "execute_result"
    }
   ],
   "source": [
    "# First defining a function to concatenate a dictionary with anoother dictionary contents\n",
    "def dic_append(d, dc):\n",
    "    '''Appends the contents of dictionary dc to dictionary d.'''\n",
    "    for key in dc.keys():\n",
    "        d[key] = dc[key]\n",
    "\n",
    "# creating the given dictionaries, dic1={1:10, 2:20} dic2={3:30, 4:40} dic3={5:50,6:60}\n",
    "dic1={1:10, 2:20}\n",
    "dic2={3:30, 4:40}\n",
    "dic3={5:50,6:60}\n",
    "#creating the new dictionary to hold the contents of the concatenated resultsd = {}\n",
    "d = {}\n",
    "dic_append(d, dic1) # Appending dic1\n",
    "dic_append(d, dic2) # Appending dic2  \n",
    "dic_append(d, dic3) # Appending dic3 \n",
    "d"
   ]
  },
  {
   "cell_type": "code",
   "execution_count": null,
   "metadata": {},
   "outputs": [],
   "source": []
  }
 ],
 "metadata": {
  "kernelspec": {
   "display_name": "Python 3",
   "language": "python",
   "name": "python3"
  },
  "language_info": {
   "codemirror_mode": {
    "name": "ipython",
    "version": 3
   },
   "file_extension": ".py",
   "mimetype": "text/x-python",
   "name": "python",
   "nbconvert_exporter": "python",
   "pygments_lexer": "ipython3",
   "version": "3.5.6"
  }
 },
 "nbformat": 4,
 "nbformat_minor": 4
}
